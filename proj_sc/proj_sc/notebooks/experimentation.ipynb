{
 "cells": [
  {
   "cell_type": "markdown",
   "id": "53e6b0f1",
   "metadata": {},
   "source": [
    "# CBIR System Experimentation\n",
    "\n",
    "This notebook allows you to interactively test and visualize the Content-Based Image Retrieval (CBIR) pipeline using DWT Entropy, POPMV, and Color Statistics features."
   ]
  },
  {
   "cell_type": "code",
   "execution_count": null,
   "id": "85f933b4",
   "metadata": {},
   "outputs": [],
   "source": [
    "import os\n",
    "import numpy as np\n",
    "import cv2\n",
    "from src.preprocessing import ImagePreprocessor\n",
    "from src.feature_extractors import POPMVExtractor, DWTEntropyExtractor, ColorStatsExtractor\n",
    "from src.fusion import FeatureFusion\n",
    "from src.retriever import ImageRetriever\n",
    "from utils.image_io import load_image, display_image\n",
    "import matplotlib.pyplot as plt\n"
   ]
  },
  {
   "cell_type": "code",
   "execution_count": null,
   "id": "8a5f8f7e",
   "metadata": {},
   "outputs": [],
   "source": [
    "# Set up paths\n",
    "config_path = '../config.json'\n",
    "index_path = '../data/features/features.json'  # Update if needed\n",
    "image_folder = '../data/images'\n",
    "query_folder = '../data/query'\n",
    "\n",
    "# Example parameters\n",
    "popmv_params = {'window_size': 3}\n",
    "dwt_params = {'wavelet': 'haar', 'level': 1}\n",
    "color_params = {'color_space': 'RGB'}\n",
    "fusion_params = {'normalize': True, 'norm_type': 'l2'}"
   ]
  },
  {
   "cell_type": "code",
   "execution_count": null,
   "id": "63c925da",
   "metadata": {},
   "outputs": [],
   "source": [
    "# Pick a sample image\n",
    "sample_image_path = os.path.join(image_folder, os.listdir(image_folder)[0])\n",
    "\n",
    "# Preprocess\n",
    "preprocessor = ImagePreprocessor(config_path)\n",
    "pre_img = preprocessor.preprocess(sample_image_path)\n",
    "\n",
    "# Feature extraction\n",
    "popmv = POPMVExtractor(**popmv_params)\n",
    "dwt = DWTEntropyExtractor(**dwt_params)\n",
    "color = ColorStatsExtractor(**color_params)\n",
    "\n",
    "popmv_feat = popmv.extract(pre_img)\n",
    "dwt_feat = dwt.extract(pre_img)\n",
    "color_img = load_image(sample_image_path, color=True)\n",
    "color_feat = color.extract(color_img)\n",
    "\n",
    "print('POPMV feature:', popmv_feat)\n",
    "print('DWT Entropy feature:', dwt_feat)\n",
    "print('Color Stats feature:', color_feat)"
   ]
  },
  {
   "cell_type": "code",
   "execution_count": null,
   "id": "5c8d6f0b",
   "metadata": {},
   "outputs": [],
   "source": [
    "fusion = FeatureFusion(**fusion_params)\n",
    "fused_vector = fusion.fuse([popmv_feat, dwt_feat, color_feat])\n",
    "print('Fused feature vector:', fused_vector)"
   ]
  },
  {
   "cell_type": "code",
   "execution_count": null,
   "id": "5f984fed",
   "metadata": {},
   "outputs": [],
   "source": [
    "# Test retrieval\n",
    "retriever = ImageRetriever(\n",
    "    config_path=config_path,\n",
    "    index_path=index_path,\n",
    "    popmv_params=popmv_params,\n",
    "    dwt_params=dwt_params,\n",
    "    color_params=color_params,\n",
    "    fusion_params=fusion_params,\n",
    "    distance_metric='euclidean'\n",
    ")\n",
    "\n",
    "query_image_path = os.path.join(query_folder, os.listdir(query_folder)[0])\n",
    "results = retriever.retrieve(query_image_path, top_k=5)\n",
    "print('Top 5 results:', results)\n",
    "\n",
    "# Visualize query and top results\n",
    "fig, axes = plt.subplots(1, 6, figsize=(18, 4))\n",
    "query_img = load_image(query_image_path, color=True)\n",
    "axes[0].imshow(cv2.cvtColor(query_img, cv2.COLOR_BGR2RGB))\n",
    "axes[0].set_title('Query')\n",
    "axes[0].axis('off')\n",
    "for i, (img_id, score) in enumerate(results):\n",
    "    img_path = os.path.join(image_folder, img_id)\n",
    "    img = load_image(img_path, color=True)\n",
    "    axes[i+1].imshow(cv2.cvtColor(img, cv2.COLOR_BGR2RGB))\n",
    "    axes[i+1].set_title(f'Result {i+1}\\nScore: {score:.3f}')\n",
    "    axes[i+1].axis('off')\n",
    "plt.tight_layout()\n",
    "plt.show()"
   ]
  }
 ],
 "metadata": {
  "language_info": {
   "name": "python"
  }
 },
 "nbformat": 4,
 "nbformat_minor": 5
}
